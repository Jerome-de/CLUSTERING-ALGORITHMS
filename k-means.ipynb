{
 "cells": [
  {
   "cell_type": "code",
   "execution_count": 45,
   "id": "e90553d2",
   "metadata": {},
   "outputs": [],
   "source": [
    "import pandas as pd\n",
    "import matplotlib.pyplot as plt\n",
    "import seaborn as sns\n",
    "import numpy as np\n",
    "import plotly.express as px\n",
    "import nbformat.json_compat "
   ]
  },
  {
   "cell_type": "code",
   "execution_count": 46,
   "id": "b39dfb53",
   "metadata": {},
   "outputs": [],
   "source": [
    "df =  pd.read_csv(\"/home/jerome/Documents/CSV FILE/babies.csv\")"
   ]
  },
  {
   "cell_type": "code",
   "execution_count": 47,
   "id": "34cebcf3",
   "metadata": {},
   "outputs": [
    {
     "data": {
      "application/vnd.microsoft.datawrangler.viewer.v0+json": {
       "columns": [
        {
         "name": "index",
         "rawType": "int64",
         "type": "integer"
        },
        {
         "name": "case",
         "rawType": "int64",
         "type": "integer"
        },
        {
         "name": "bwt",
         "rawType": "int64",
         "type": "integer"
        },
        {
         "name": "gestation",
         "rawType": "float64",
         "type": "float"
        },
        {
         "name": "parity",
         "rawType": "int64",
         "type": "integer"
        },
        {
         "name": "age",
         "rawType": "float64",
         "type": "float"
        },
        {
         "name": "height",
         "rawType": "float64",
         "type": "float"
        },
        {
         "name": "weight",
         "rawType": "float64",
         "type": "float"
        },
        {
         "name": "smoke",
         "rawType": "float64",
         "type": "float"
        }
       ],
       "conversionMethod": "pd.DataFrame",
       "ref": "e433b920-dde3-49f8-9eb8-9f56e55cb09e",
       "rows": [
        [
         "0",
         "1",
         "120",
         "284.0",
         "0",
         "27.0",
         "62.0",
         "100.0",
         "0.0"
        ],
        [
         "1",
         "2",
         "113",
         "282.0",
         "0",
         "33.0",
         "64.0",
         "135.0",
         "0.0"
        ],
        [
         "2",
         "3",
         "128",
         "279.0",
         "0",
         "28.0",
         "64.0",
         "115.0",
         "1.0"
        ],
        [
         "3",
         "4",
         "123",
         null,
         "0",
         "36.0",
         "69.0",
         "190.0",
         "0.0"
        ],
        [
         "4",
         "5",
         "108",
         "282.0",
         "0",
         "23.0",
         "67.0",
         "125.0",
         "1.0"
        ],
        [
         "5",
         "6",
         "136",
         "286.0",
         "0",
         "25.0",
         "62.0",
         "93.0",
         "0.0"
        ],
        [
         "6",
         "7",
         "138",
         "244.0",
         "0",
         "33.0",
         "62.0",
         "178.0",
         "0.0"
        ],
        [
         "7",
         "8",
         "132",
         "245.0",
         "0",
         "23.0",
         "65.0",
         "140.0",
         "0.0"
        ],
        [
         "8",
         "9",
         "120",
         "289.0",
         "0",
         "25.0",
         "62.0",
         "125.0",
         "0.0"
        ],
        [
         "9",
         "10",
         "143",
         "299.0",
         "0",
         "30.0",
         "66.0",
         "136.0",
         "1.0"
        ],
        [
         "10",
         "11",
         "140",
         "351.0",
         "0",
         "27.0",
         "68.0",
         "120.0",
         "0.0"
        ],
        [
         "11",
         "12",
         "144",
         "282.0",
         "0",
         "32.0",
         "64.0",
         "124.0",
         "1.0"
        ],
        [
         "12",
         "13",
         "141",
         "279.0",
         "0",
         "23.0",
         "63.0",
         "128.0",
         "1.0"
        ],
        [
         "13",
         "14",
         "110",
         "281.0",
         "0",
         "36.0",
         "61.0",
         "99.0",
         "1.0"
        ],
        [
         "14",
         "15",
         "114",
         "273.0",
         "0",
         "30.0",
         "63.0",
         "154.0",
         "0.0"
        ],
        [
         "15",
         "16",
         "115",
         "285.0",
         "0",
         "38.0",
         "63.0",
         "130.0",
         "0.0"
        ],
        [
         "16",
         "17",
         "92",
         "255.0",
         "0",
         "25.0",
         "65.0",
         "125.0",
         "1.0"
        ],
        [
         "17",
         "18",
         "115",
         "261.0",
         "0",
         "33.0",
         "60.0",
         "125.0",
         "1.0"
        ],
        [
         "18",
         "19",
         "144",
         "261.0",
         "0",
         "33.0",
         "68.0",
         "170.0",
         "0.0"
        ],
        [
         "19",
         "20",
         "119",
         "288.0",
         "0",
         "43.0",
         "66.0",
         "142.0",
         "1.0"
        ],
        [
         "20",
         "21",
         "105",
         "270.0",
         "0",
         "22.0",
         "56.0",
         "93.0",
         "0.0"
        ],
        [
         "21",
         "22",
         "115",
         "274.0",
         "0",
         "27.0",
         "67.0",
         "175.0",
         "1.0"
        ],
        [
         "22",
         "23",
         "137",
         "287.0",
         "0",
         "25.0",
         "66.0",
         "145.0",
         "0.0"
        ],
        [
         "23",
         "24",
         "122",
         "276.0",
         "0",
         "30.0",
         "68.0",
         "182.0",
         "0.0"
        ],
        [
         "24",
         "25",
         "131",
         "294.0",
         "0",
         "23.0",
         "65.0",
         "122.0",
         "0.0"
        ],
        [
         "25",
         "26",
         "103",
         "261.0",
         "0",
         "27.0",
         "65.0",
         "112.0",
         "1.0"
        ],
        [
         "26",
         "27",
         "146",
         "280.0",
         "0",
         "26.0",
         "58.0",
         "106.0",
         "0.0"
        ],
        [
         "27",
         "28",
         "114",
         "266.0",
         "0",
         "20.0",
         "65.0",
         "175.0",
         "1.0"
        ],
        [
         "28",
         "29",
         "125",
         "292.0",
         "0",
         "32.0",
         "65.0",
         "125.0",
         "0.0"
        ],
        [
         "29",
         "30",
         "114",
         "274.0",
         "0",
         "28.0",
         "66.0",
         "132.0",
         "1.0"
        ],
        [
         "30",
         "31",
         "122",
         "270.0",
         "0",
         "26.0",
         "61.0",
         "105.0",
         "0.0"
        ],
        [
         "31",
         "32",
         "93",
         "278.0",
         "0",
         "34.0",
         "61.0",
         "146.0",
         "0.0"
        ],
        [
         "32",
         "33",
         "130",
         "268.0",
         "0",
         "30.0",
         "66.0",
         "123.0",
         "0.0"
        ],
        [
         "33",
         "34",
         "119",
         "275.0",
         "0",
         "23.0",
         "60.0",
         "105.0",
         "0.0"
        ],
        [
         "34",
         "35",
         "113",
         "281.0",
         "0",
         "24.0",
         "65.0",
         "120.0",
         "0.0"
        ],
        [
         "35",
         "36",
         "134",
         "283.0",
         "0",
         "22.0",
         "67.0",
         "130.0",
         "0.0"
        ],
        [
         "36",
         "37",
         "107",
         "279.0",
         "0",
         "24.0",
         "63.0",
         "115.0",
         "0.0"
        ],
        [
         "37",
         "38",
         "134",
         "288.0",
         "0",
         "23.0",
         "63.0",
         "92.0",
         "1.0"
        ],
        [
         "38",
         "39",
         "122",
         "267.0",
         "0",
         "27.0",
         "65.0",
         "101.0",
         "1.0"
        ],
        [
         "39",
         "40",
         "128",
         "282.0",
         "0",
         "31.0",
         "65.0",
         null,
         "0.0"
        ],
        [
         "40",
         "41",
         "129",
         "293.0",
         "0",
         "30.0",
         "61.0",
         "160.0",
         "0.0"
        ],
        [
         "41",
         "42",
         "110",
         "278.0",
         "0",
         "23.0",
         "63.0",
         "177.0",
         "0.0"
        ],
        [
         "42",
         "43",
         "138",
         "302.0",
         "0",
         "26.0",
         null,
         null,
         "1.0"
        ],
        [
         "43",
         "44",
         "111",
         "270.0",
         "0",
         "27.0",
         "61.0",
         "119.0",
         "0.0"
        ],
        [
         "44",
         "45",
         "87",
         "248.0",
         "0",
         "37.0",
         "65.0",
         "130.0",
         "1.0"
        ],
        [
         "45",
         "46",
         "143",
         "274.0",
         "0",
         "27.0",
         "63.0",
         "110.0",
         "1.0"
        ],
        [
         "46",
         "47",
         "155",
         "294.0",
         "0",
         "32.0",
         "66.0",
         "150.0",
         "0.0"
        ],
        [
         "47",
         "48",
         "110",
         "272.0",
         "0",
         "25.0",
         "60.0",
         "90.0",
         "0.0"
        ],
        [
         "48",
         "49",
         "122",
         "275.0",
         "0",
         "26.0",
         "66.0",
         "147.0",
         "0.0"
        ],
        [
         "49",
         "50",
         "145",
         "291.0",
         "0",
         "26.0",
         "63.0",
         "119.0",
         "1.0"
        ]
       ],
       "shape": {
        "columns": 8,
        "rows": 1236
       }
      },
      "text/html": [
       "<div>\n",
       "<style scoped>\n",
       "    .dataframe tbody tr th:only-of-type {\n",
       "        vertical-align: middle;\n",
       "    }\n",
       "\n",
       "    .dataframe tbody tr th {\n",
       "        vertical-align: top;\n",
       "    }\n",
       "\n",
       "    .dataframe thead th {\n",
       "        text-align: right;\n",
       "    }\n",
       "</style>\n",
       "<table border=\"1\" class=\"dataframe\">\n",
       "  <thead>\n",
       "    <tr style=\"text-align: right;\">\n",
       "      <th></th>\n",
       "      <th>case</th>\n",
       "      <th>bwt</th>\n",
       "      <th>gestation</th>\n",
       "      <th>parity</th>\n",
       "      <th>age</th>\n",
       "      <th>height</th>\n",
       "      <th>weight</th>\n",
       "      <th>smoke</th>\n",
       "    </tr>\n",
       "  </thead>\n",
       "  <tbody>\n",
       "    <tr>\n",
       "      <th>0</th>\n",
       "      <td>1</td>\n",
       "      <td>120</td>\n",
       "      <td>284.0</td>\n",
       "      <td>0</td>\n",
       "      <td>27.0</td>\n",
       "      <td>62.0</td>\n",
       "      <td>100.0</td>\n",
       "      <td>0.0</td>\n",
       "    </tr>\n",
       "    <tr>\n",
       "      <th>1</th>\n",
       "      <td>2</td>\n",
       "      <td>113</td>\n",
       "      <td>282.0</td>\n",
       "      <td>0</td>\n",
       "      <td>33.0</td>\n",
       "      <td>64.0</td>\n",
       "      <td>135.0</td>\n",
       "      <td>0.0</td>\n",
       "    </tr>\n",
       "    <tr>\n",
       "      <th>2</th>\n",
       "      <td>3</td>\n",
       "      <td>128</td>\n",
       "      <td>279.0</td>\n",
       "      <td>0</td>\n",
       "      <td>28.0</td>\n",
       "      <td>64.0</td>\n",
       "      <td>115.0</td>\n",
       "      <td>1.0</td>\n",
       "    </tr>\n",
       "    <tr>\n",
       "      <th>3</th>\n",
       "      <td>4</td>\n",
       "      <td>123</td>\n",
       "      <td>NaN</td>\n",
       "      <td>0</td>\n",
       "      <td>36.0</td>\n",
       "      <td>69.0</td>\n",
       "      <td>190.0</td>\n",
       "      <td>0.0</td>\n",
       "    </tr>\n",
       "    <tr>\n",
       "      <th>4</th>\n",
       "      <td>5</td>\n",
       "      <td>108</td>\n",
       "      <td>282.0</td>\n",
       "      <td>0</td>\n",
       "      <td>23.0</td>\n",
       "      <td>67.0</td>\n",
       "      <td>125.0</td>\n",
       "      <td>1.0</td>\n",
       "    </tr>\n",
       "    <tr>\n",
       "      <th>...</th>\n",
       "      <td>...</td>\n",
       "      <td>...</td>\n",
       "      <td>...</td>\n",
       "      <td>...</td>\n",
       "      <td>...</td>\n",
       "      <td>...</td>\n",
       "      <td>...</td>\n",
       "      <td>...</td>\n",
       "    </tr>\n",
       "    <tr>\n",
       "      <th>1231</th>\n",
       "      <td>1232</td>\n",
       "      <td>113</td>\n",
       "      <td>275.0</td>\n",
       "      <td>1</td>\n",
       "      <td>27.0</td>\n",
       "      <td>60.0</td>\n",
       "      <td>100.0</td>\n",
       "      <td>0.0</td>\n",
       "    </tr>\n",
       "    <tr>\n",
       "      <th>1232</th>\n",
       "      <td>1233</td>\n",
       "      <td>128</td>\n",
       "      <td>265.0</td>\n",
       "      <td>0</td>\n",
       "      <td>24.0</td>\n",
       "      <td>67.0</td>\n",
       "      <td>120.0</td>\n",
       "      <td>0.0</td>\n",
       "    </tr>\n",
       "    <tr>\n",
       "      <th>1233</th>\n",
       "      <td>1234</td>\n",
       "      <td>130</td>\n",
       "      <td>291.0</td>\n",
       "      <td>0</td>\n",
       "      <td>30.0</td>\n",
       "      <td>65.0</td>\n",
       "      <td>150.0</td>\n",
       "      <td>1.0</td>\n",
       "    </tr>\n",
       "    <tr>\n",
       "      <th>1234</th>\n",
       "      <td>1235</td>\n",
       "      <td>125</td>\n",
       "      <td>281.0</td>\n",
       "      <td>1</td>\n",
       "      <td>21.0</td>\n",
       "      <td>65.0</td>\n",
       "      <td>110.0</td>\n",
       "      <td>0.0</td>\n",
       "    </tr>\n",
       "    <tr>\n",
       "      <th>1235</th>\n",
       "      <td>1236</td>\n",
       "      <td>117</td>\n",
       "      <td>297.0</td>\n",
       "      <td>0</td>\n",
       "      <td>38.0</td>\n",
       "      <td>65.0</td>\n",
       "      <td>129.0</td>\n",
       "      <td>0.0</td>\n",
       "    </tr>\n",
       "  </tbody>\n",
       "</table>\n",
       "<p>1236 rows × 8 columns</p>\n",
       "</div>"
      ],
      "text/plain": [
       "      case  bwt  gestation  parity   age  height  weight  smoke\n",
       "0        1  120      284.0       0  27.0    62.0   100.0    0.0\n",
       "1        2  113      282.0       0  33.0    64.0   135.0    0.0\n",
       "2        3  128      279.0       0  28.0    64.0   115.0    1.0\n",
       "3        4  123        NaN       0  36.0    69.0   190.0    0.0\n",
       "4        5  108      282.0       0  23.0    67.0   125.0    1.0\n",
       "...    ...  ...        ...     ...   ...     ...     ...    ...\n",
       "1231  1232  113      275.0       1  27.0    60.0   100.0    0.0\n",
       "1232  1233  128      265.0       0  24.0    67.0   120.0    0.0\n",
       "1233  1234  130      291.0       0  30.0    65.0   150.0    1.0\n",
       "1234  1235  125      281.0       1  21.0    65.0   110.0    0.0\n",
       "1235  1236  117      297.0       0  38.0    65.0   129.0    0.0\n",
       "\n",
       "[1236 rows x 8 columns]"
      ]
     },
     "execution_count": 47,
     "metadata": {},
     "output_type": "execute_result"
    }
   ],
   "source": [
    "df"
   ]
  },
  {
   "cell_type": "code",
   "execution_count": 48,
   "id": "677b3df5",
   "metadata": {},
   "outputs": [],
   "source": [
    "df.drop(columns=\"case\", axis =1 , inplace= True)"
   ]
  },
  {
   "cell_type": "code",
   "execution_count": 49,
   "id": "3f7e312f",
   "metadata": {},
   "outputs": [
    {
     "data": {
      "text/plain": [
       "np.int64(0)"
      ]
     },
     "execution_count": 49,
     "metadata": {},
     "output_type": "execute_result"
    }
   ],
   "source": [
    "df.duplicated().sum()"
   ]
  },
  {
   "cell_type": "code",
   "execution_count": 55,
   "id": "2e11114f",
   "metadata": {},
   "outputs": [
    {
     "name": "stdout",
     "output_type": "stream",
     "text": [
      "<class 'pandas.core.frame.DataFrame'>\n",
      "RangeIndex: 1236 entries, 0 to 1235\n",
      "Data columns (total 7 columns):\n",
      " #   Column     Non-Null Count  Dtype \n",
      "---  ------     --------------  ----- \n",
      " 0   bwt        1236 non-null   int64 \n",
      " 1   gestation  1236 non-null   object\n",
      " 2   parity     1236 non-null   int64 \n",
      " 3   age        1236 non-null   object\n",
      " 4   height     1236 non-null   object\n",
      " 5   weight     1236 non-null   object\n",
      " 6   smoke      1236 non-null   object\n",
      "dtypes: int64(2), object(5)\n",
      "memory usage: 67.7+ KB\n"
     ]
    }
   ],
   "source": [
    "df.info()"
   ]
  },
  {
   "cell_type": "code",
   "execution_count": 50,
   "id": "6fbc2fd0",
   "metadata": {},
   "outputs": [
    {
     "data": {
      "text/plain": [
       "bwt           0\n",
       "gestation    13\n",
       "parity        0\n",
       "age           2\n",
       "height       22\n",
       "weight       36\n",
       "smoke        10\n",
       "dtype: int64"
      ]
     },
     "execution_count": 50,
     "metadata": {},
     "output_type": "execute_result"
    }
   ],
   "source": [
    "df.isna().sum()"
   ]
  },
  {
   "cell_type": "code",
   "execution_count": 51,
   "id": "d5aa3940",
   "metadata": {},
   "outputs": [],
   "source": [
    "for i in df.columns:\n",
    "    df[i] = df[i].fillna(df[i].mean)"
   ]
  },
  {
   "cell_type": "code",
   "execution_count": 52,
   "id": "5e3067c8",
   "metadata": {},
   "outputs": [
    {
     "name": "stdout",
     "output_type": "stream",
     "text": [
      "<class 'pandas.core.frame.DataFrame'>\n",
      "RangeIndex: 1236 entries, 0 to 1235\n",
      "Data columns (total 7 columns):\n",
      " #   Column     Non-Null Count  Dtype \n",
      "---  ------     --------------  ----- \n",
      " 0   bwt        1236 non-null   int64 \n",
      " 1   gestation  1236 non-null   object\n",
      " 2   parity     1236 non-null   int64 \n",
      " 3   age        1236 non-null   object\n",
      " 4   height     1236 non-null   object\n",
      " 5   weight     1236 non-null   object\n",
      " 6   smoke      1236 non-null   object\n",
      "dtypes: int64(2), object(5)\n",
      "memory usage: 67.7+ KB\n"
     ]
    }
   ],
   "source": [
    "df.info()"
   ]
  },
  {
   "cell_type": "code",
   "execution_count": null,
   "id": "d80c19bd",
   "metadata": {},
   "outputs": [
    {
     "ename": "TypeError",
     "evalue": "Object of type method is not JSON serializable",
     "output_type": "error",
     "traceback": [
      "\u001b[31m---------------------------------------------------------------------------\u001b[39m",
      "\u001b[31mTypeError\u001b[39m                                 Traceback (most recent call last)",
      "\u001b[36mCell\u001b[39m\u001b[36m \u001b[39m\u001b[32mIn[56]\u001b[39m\u001b[32m, line 7\u001b[39m\n\u001b[32m      1\u001b[39m labels = {\n\u001b[32m      2\u001b[39m     \u001b[33m'\u001b[39m\u001b[33mx\u001b[39m\u001b[33m'\u001b[39m: \u001b[33m'\u001b[39m\u001b[33mgestation\u001b[39m\u001b[33m'\u001b[39m,\n\u001b[32m      3\u001b[39m     \u001b[33m'\u001b[39m\u001b[33my\u001b[39m\u001b[33m'\u001b[39m : \u001b[33m'\u001b[39m\u001b[33mage\u001b[39m\u001b[33m'\u001b[39m,\n\u001b[32m      4\u001b[39m     \u001b[33m'\u001b[39m\u001b[33mz\u001b[39m\u001b[33m'\u001b[39m : \u001b[33m'\u001b[39m\u001b[33mweight\u001b[39m\u001b[33m'\u001b[39m\n\u001b[32m      5\u001b[39m }\n\u001b[32m      6\u001b[39m plot = px.scatter_3d(df, x= \u001b[33m'\u001b[39m\u001b[33mgestation\u001b[39m\u001b[33m'\u001b[39m, y = \u001b[33m'\u001b[39m\u001b[33mage\u001b[39m\u001b[33m'\u001b[39m, z = \u001b[33m'\u001b[39m\u001b[33mweight\u001b[39m\u001b[33m'\u001b[39m, labels= labels, height= \u001b[32m800\u001b[39m, width= \u001b[32m1200\u001b[39m)\n\u001b[32m----> \u001b[39m\u001b[32m7\u001b[39m \u001b[43mplot\u001b[49m\u001b[43m.\u001b[49m\u001b[43mshow\u001b[49m\u001b[43m(\u001b[49m\u001b[43m)\u001b[49m\n",
      "\u001b[36mFile \u001b[39m\u001b[32m~/Documents/python_workspace/myenv/share/jupyter/.venv/lib/python3.12/site-packages/plotly/basedatatypes.py:3414\u001b[39m, in \u001b[36mBaseFigure.show\u001b[39m\u001b[34m(self, *args, **kwargs)\u001b[39m\n\u001b[32m   3381\u001b[39m \u001b[38;5;250m\u001b[39m\u001b[33;03m\"\"\"\u001b[39;00m\n\u001b[32m   3382\u001b[39m \u001b[33;03mShow a figure using either the default renderer(s) or the renderer(s)\u001b[39;00m\n\u001b[32m   3383\u001b[39m \u001b[33;03mspecified by the renderer argument\u001b[39;00m\n\u001b[32m   (...)\u001b[39m\u001b[32m   3410\u001b[39m \u001b[33;03mNone\u001b[39;00m\n\u001b[32m   3411\u001b[39m \u001b[33;03m\"\"\"\u001b[39;00m\n\u001b[32m   3412\u001b[39m \u001b[38;5;28;01mimport\u001b[39;00m\u001b[38;5;250m \u001b[39m\u001b[34;01mplotly\u001b[39;00m\u001b[34;01m.\u001b[39;00m\u001b[34;01mio\u001b[39;00m\u001b[38;5;250m \u001b[39m\u001b[38;5;28;01mas\u001b[39;00m\u001b[38;5;250m \u001b[39m\u001b[34;01mpio\u001b[39;00m\n\u001b[32m-> \u001b[39m\u001b[32m3414\u001b[39m \u001b[38;5;28;01mreturn\u001b[39;00m \u001b[43mpio\u001b[49m\u001b[43m.\u001b[49m\u001b[43mshow\u001b[49m\u001b[43m(\u001b[49m\u001b[38;5;28;43mself\u001b[39;49m\u001b[43m,\u001b[49m\u001b[43m \u001b[49m\u001b[43m*\u001b[49m\u001b[43margs\u001b[49m\u001b[43m,\u001b[49m\u001b[43m \u001b[49m\u001b[43m*\u001b[49m\u001b[43m*\u001b[49m\u001b[43mkwargs\u001b[49m\u001b[43m)\u001b[49m\n",
      "\u001b[36mFile \u001b[39m\u001b[32m~/Documents/python_workspace/myenv/share/jupyter/.venv/lib/python3.12/site-packages/plotly/io/_renderers.py:417\u001b[39m, in \u001b[36mshow\u001b[39m\u001b[34m(fig, renderer, validate, **kwargs)\u001b[39m\n\u001b[32m    414\u001b[39m fig_dict = validate_coerce_fig_to_dict(fig, validate)\n\u001b[32m    416\u001b[39m \u001b[38;5;66;03m# Mimetype renderers\u001b[39;00m\n\u001b[32m--> \u001b[39m\u001b[32m417\u001b[39m bundle = \u001b[43mrenderers\u001b[49m\u001b[43m.\u001b[49m\u001b[43m_build_mime_bundle\u001b[49m\u001b[43m(\u001b[49m\u001b[43mfig_dict\u001b[49m\u001b[43m,\u001b[49m\u001b[43m \u001b[49m\u001b[43mrenderers_string\u001b[49m\u001b[43m=\u001b[49m\u001b[43mrenderer\u001b[49m\u001b[43m,\u001b[49m\u001b[43m \u001b[49m\u001b[43m*\u001b[49m\u001b[43m*\u001b[49m\u001b[43mkwargs\u001b[49m\u001b[43m)\u001b[49m\n\u001b[32m    418\u001b[39m \u001b[38;5;28;01mif\u001b[39;00m bundle:\n\u001b[32m    419\u001b[39m     \u001b[38;5;28;01mif\u001b[39;00m \u001b[38;5;129;01mnot\u001b[39;00m ipython_display:\n",
      "\u001b[36mFile \u001b[39m\u001b[32m~/Documents/python_workspace/myenv/share/jupyter/.venv/lib/python3.12/site-packages/plotly/io/_renderers.py:325\u001b[39m, in \u001b[36mRenderersConfig._build_mime_bundle\u001b[39m\u001b[34m(self, fig_dict, renderers_string, **kwargs)\u001b[39m\n\u001b[32m    322\u001b[39m             \u001b[38;5;28;01mif\u001b[39;00m \u001b[38;5;28mhasattr\u001b[39m(renderer, k):\n\u001b[32m    323\u001b[39m                 \u001b[38;5;28msetattr\u001b[39m(renderer, k, v)\n\u001b[32m--> \u001b[39m\u001b[32m325\u001b[39m         bundle.update(\u001b[43mrenderer\u001b[49m\u001b[43m.\u001b[49m\u001b[43mto_mimebundle\u001b[49m\u001b[43m(\u001b[49m\u001b[43mfig_dict\u001b[49m\u001b[43m)\u001b[49m)\n\u001b[32m    327\u001b[39m \u001b[38;5;28;01mreturn\u001b[39;00m bundle\n",
      "\u001b[36mFile \u001b[39m\u001b[32m~/Documents/python_workspace/myenv/share/jupyter/.venv/lib/python3.12/site-packages/plotly/io/_base_renderers.py:94\u001b[39m, in \u001b[36mPlotlyRenderer.to_mimebundle\u001b[39m\u001b[34m(self, fig_dict)\u001b[39m\n\u001b[32m     90\u001b[39m \u001b[38;5;28;01mif\u001b[39;00m config:\n\u001b[32m     91\u001b[39m     fig_dict[\u001b[33m\"\u001b[39m\u001b[33mconfig\u001b[39m\u001b[33m\"\u001b[39m] = config\n\u001b[32m     93\u001b[39m json_compatible_fig_dict = json.loads(\n\u001b[32m---> \u001b[39m\u001b[32m94\u001b[39m     \u001b[43mto_json\u001b[49m\u001b[43m(\u001b[49m\u001b[43mfig_dict\u001b[49m\u001b[43m,\u001b[49m\u001b[43m \u001b[49m\u001b[43mvalidate\u001b[49m\u001b[43m=\u001b[49m\u001b[38;5;28;43;01mFalse\u001b[39;49;00m\u001b[43m,\u001b[49m\u001b[43m \u001b[49m\u001b[43mremove_uids\u001b[49m\u001b[43m=\u001b[49m\u001b[38;5;28;43;01mFalse\u001b[39;49;00m\u001b[43m)\u001b[49m\n\u001b[32m     95\u001b[39m )\n\u001b[32m     97\u001b[39m \u001b[38;5;28;01mreturn\u001b[39;00m {\u001b[33m\"\u001b[39m\u001b[33mapplication/vnd.plotly.v1+json\u001b[39m\u001b[33m\"\u001b[39m: json_compatible_fig_dict}\n",
      "\u001b[36mFile \u001b[39m\u001b[32m~/Documents/python_workspace/myenv/share/jupyter/.venv/lib/python3.12/site-packages/plotly/io/_json.py:221\u001b[39m, in \u001b[36mto_json\u001b[39m\u001b[34m(fig, validate, pretty, remove_uids, engine)\u001b[39m\n\u001b[32m    218\u001b[39m     \u001b[38;5;28;01mfor\u001b[39;00m trace \u001b[38;5;129;01min\u001b[39;00m fig_dict.get(\u001b[33m\"\u001b[39m\u001b[33mdata\u001b[39m\u001b[33m\"\u001b[39m, []):\n\u001b[32m    219\u001b[39m         trace.pop(\u001b[33m\"\u001b[39m\u001b[33muid\u001b[39m\u001b[33m\"\u001b[39m, \u001b[38;5;28;01mNone\u001b[39;00m)\n\u001b[32m--> \u001b[39m\u001b[32m221\u001b[39m \u001b[38;5;28;01mreturn\u001b[39;00m \u001b[43mto_json_plotly\u001b[49m\u001b[43m(\u001b[49m\u001b[43mfig_dict\u001b[49m\u001b[43m,\u001b[49m\u001b[43m \u001b[49m\u001b[43mpretty\u001b[49m\u001b[43m=\u001b[49m\u001b[43mpretty\u001b[49m\u001b[43m,\u001b[49m\u001b[43m \u001b[49m\u001b[43mengine\u001b[49m\u001b[43m=\u001b[49m\u001b[43mengine\u001b[49m\u001b[43m)\u001b[49m\n",
      "\u001b[36mFile \u001b[39m\u001b[32m~/Documents/python_workspace/myenv/share/jupyter/.venv/lib/python3.12/site-packages/plotly/io/_json.py:142\u001b[39m, in \u001b[36mto_json_plotly\u001b[39m\u001b[34m(plotly_object, pretty, engine)\u001b[39m\n\u001b[32m    137\u001b[39m         opts[\u001b[33m\"\u001b[39m\u001b[33mseparators\u001b[39m\u001b[33m\"\u001b[39m] = (\u001b[33m\"\u001b[39m\u001b[33m,\u001b[39m\u001b[33m\"\u001b[39m, \u001b[33m\"\u001b[39m\u001b[33m:\u001b[39m\u001b[33m\"\u001b[39m)\n\u001b[32m    139\u001b[39m     \u001b[38;5;28;01mfrom\u001b[39;00m\u001b[38;5;250m \u001b[39m\u001b[34;01m_plotly_utils\u001b[39;00m\u001b[34;01m.\u001b[39;00m\u001b[34;01mutils\u001b[39;00m\u001b[38;5;250m \u001b[39m\u001b[38;5;28;01mimport\u001b[39;00m PlotlyJSONEncoder\n\u001b[32m    141\u001b[39m     \u001b[38;5;28;01mreturn\u001b[39;00m _safe(\n\u001b[32m--> \u001b[39m\u001b[32m142\u001b[39m         \u001b[43mjson\u001b[49m\u001b[43m.\u001b[49m\u001b[43mdumps\u001b[49m\u001b[43m(\u001b[49m\u001b[43mplotly_object\u001b[49m\u001b[43m,\u001b[49m\u001b[43m \u001b[49m\u001b[38;5;28;43mcls\u001b[39;49m\u001b[43m=\u001b[49m\u001b[43mPlotlyJSONEncoder\u001b[49m\u001b[43m,\u001b[49m\u001b[43m \u001b[49m\u001b[43m*\u001b[49m\u001b[43m*\u001b[49m\u001b[43mopts\u001b[49m\u001b[43m)\u001b[49m, _swap_json\n\u001b[32m    143\u001b[39m     )\n\u001b[32m    144\u001b[39m \u001b[38;5;28;01melif\u001b[39;00m engine == \u001b[33m\"\u001b[39m\u001b[33morjson\u001b[39m\u001b[33m\"\u001b[39m:\n\u001b[32m    145\u001b[39m     JsonConfig.validate_orjson()\n",
      "\u001b[36mFile \u001b[39m\u001b[32m/usr/lib/python3.12/json/__init__.py:238\u001b[39m, in \u001b[36mdumps\u001b[39m\u001b[34m(obj, skipkeys, ensure_ascii, check_circular, allow_nan, cls, indent, separators, default, sort_keys, **kw)\u001b[39m\n\u001b[32m    232\u001b[39m \u001b[38;5;28;01mif\u001b[39;00m \u001b[38;5;28mcls\u001b[39m \u001b[38;5;129;01mis\u001b[39;00m \u001b[38;5;28;01mNone\u001b[39;00m:\n\u001b[32m    233\u001b[39m     \u001b[38;5;28mcls\u001b[39m = JSONEncoder\n\u001b[32m    234\u001b[39m \u001b[38;5;28;01mreturn\u001b[39;00m \u001b[38;5;28;43mcls\u001b[39;49m\u001b[43m(\u001b[49m\n\u001b[32m    235\u001b[39m \u001b[43m    \u001b[49m\u001b[43mskipkeys\u001b[49m\u001b[43m=\u001b[49m\u001b[43mskipkeys\u001b[49m\u001b[43m,\u001b[49m\u001b[43m \u001b[49m\u001b[43mensure_ascii\u001b[49m\u001b[43m=\u001b[49m\u001b[43mensure_ascii\u001b[49m\u001b[43m,\u001b[49m\n\u001b[32m    236\u001b[39m \u001b[43m    \u001b[49m\u001b[43mcheck_circular\u001b[49m\u001b[43m=\u001b[49m\u001b[43mcheck_circular\u001b[49m\u001b[43m,\u001b[49m\u001b[43m \u001b[49m\u001b[43mallow_nan\u001b[49m\u001b[43m=\u001b[49m\u001b[43mallow_nan\u001b[49m\u001b[43m,\u001b[49m\u001b[43m \u001b[49m\u001b[43mindent\u001b[49m\u001b[43m=\u001b[49m\u001b[43mindent\u001b[49m\u001b[43m,\u001b[49m\n\u001b[32m    237\u001b[39m \u001b[43m    \u001b[49m\u001b[43mseparators\u001b[49m\u001b[43m=\u001b[49m\u001b[43mseparators\u001b[49m\u001b[43m,\u001b[49m\u001b[43m \u001b[49m\u001b[43mdefault\u001b[49m\u001b[43m=\u001b[49m\u001b[43mdefault\u001b[49m\u001b[43m,\u001b[49m\u001b[43m \u001b[49m\u001b[43msort_keys\u001b[49m\u001b[43m=\u001b[49m\u001b[43msort_keys\u001b[49m\u001b[43m,\u001b[49m\n\u001b[32m--> \u001b[39m\u001b[32m238\u001b[39m \u001b[43m    \u001b[49m\u001b[43m*\u001b[49m\u001b[43m*\u001b[49m\u001b[43mkw\u001b[49m\u001b[43m)\u001b[49m\u001b[43m.\u001b[49m\u001b[43mencode\u001b[49m\u001b[43m(\u001b[49m\u001b[43mobj\u001b[49m\u001b[43m)\u001b[49m\n",
      "\u001b[36mFile \u001b[39m\u001b[32m~/Documents/python_workspace/myenv/share/jupyter/.venv/lib/python3.12/site-packages/_plotly_utils/utils.py:162\u001b[39m, in \u001b[36mPlotlyJSONEncoder.encode\u001b[39m\u001b[34m(self, o)\u001b[39m\n\u001b[32m    155\u001b[39m \u001b[38;5;250m\u001b[39m\u001b[33;03m\"\"\"\u001b[39;00m\n\u001b[32m    156\u001b[39m \u001b[33;03mLoad and then dump the result using parse_constant kwarg\u001b[39;00m\n\u001b[32m    157\u001b[39m \n\u001b[32m    158\u001b[39m \u001b[33;03mNote that setting invalid separators will cause a failure at this step.\u001b[39;00m\n\u001b[32m    159\u001b[39m \n\u001b[32m    160\u001b[39m \u001b[33;03m\"\"\"\u001b[39;00m\n\u001b[32m    161\u001b[39m \u001b[38;5;66;03m# this will raise errors in a normal-expected way\u001b[39;00m\n\u001b[32m--> \u001b[39m\u001b[32m162\u001b[39m encoded_o = \u001b[38;5;28;43msuper\u001b[39;49m\u001b[43m(\u001b[49m\u001b[43mPlotlyJSONEncoder\u001b[49m\u001b[43m,\u001b[49m\u001b[43m \u001b[49m\u001b[38;5;28;43mself\u001b[39;49m\u001b[43m)\u001b[49m\u001b[43m.\u001b[49m\u001b[43mencode\u001b[49m\u001b[43m(\u001b[49m\u001b[43mo\u001b[49m\u001b[43m)\u001b[49m\n\u001b[32m    163\u001b[39m \u001b[38;5;66;03m# Brute force guessing whether NaN or Infinity values are in the string\u001b[39;00m\n\u001b[32m    164\u001b[39m \u001b[38;5;66;03m# We catch false positive cases (e.g. strings such as titles, labels etc.)\u001b[39;00m\n\u001b[32m    165\u001b[39m \u001b[38;5;66;03m# but this is ok since the intention is to skip the decoding / reencoding\u001b[39;00m\n\u001b[32m    166\u001b[39m \u001b[38;5;66;03m# step when it's completely safe\u001b[39;00m\n\u001b[32m    168\u001b[39m \u001b[38;5;28;01mif\u001b[39;00m \u001b[38;5;129;01mnot\u001b[39;00m (\u001b[33m\"\u001b[39m\u001b[33mNaN\u001b[39m\u001b[33m\"\u001b[39m \u001b[38;5;129;01min\u001b[39;00m encoded_o \u001b[38;5;129;01mor\u001b[39;00m \u001b[33m\"\u001b[39m\u001b[33mInfinity\u001b[39m\u001b[33m\"\u001b[39m \u001b[38;5;129;01min\u001b[39;00m encoded_o):\n",
      "\u001b[36mFile \u001b[39m\u001b[32m/usr/lib/python3.12/json/encoder.py:200\u001b[39m, in \u001b[36mJSONEncoder.encode\u001b[39m\u001b[34m(self, o)\u001b[39m\n\u001b[32m    196\u001b[39m         \u001b[38;5;28;01mreturn\u001b[39;00m encode_basestring(o)\n\u001b[32m    197\u001b[39m \u001b[38;5;66;03m# This doesn't pass the iterator directly to ''.join() because the\u001b[39;00m\n\u001b[32m    198\u001b[39m \u001b[38;5;66;03m# exceptions aren't as detailed.  The list call should be roughly\u001b[39;00m\n\u001b[32m    199\u001b[39m \u001b[38;5;66;03m# equivalent to the PySequence_Fast that ''.join() would do.\u001b[39;00m\n\u001b[32m--> \u001b[39m\u001b[32m200\u001b[39m chunks = \u001b[38;5;28;43mself\u001b[39;49m\u001b[43m.\u001b[49m\u001b[43miterencode\u001b[49m\u001b[43m(\u001b[49m\u001b[43mo\u001b[49m\u001b[43m,\u001b[49m\u001b[43m \u001b[49m\u001b[43m_one_shot\u001b[49m\u001b[43m=\u001b[49m\u001b[38;5;28;43;01mTrue\u001b[39;49;00m\u001b[43m)\u001b[49m\n\u001b[32m    201\u001b[39m \u001b[38;5;28;01mif\u001b[39;00m \u001b[38;5;129;01mnot\u001b[39;00m \u001b[38;5;28misinstance\u001b[39m(chunks, (\u001b[38;5;28mlist\u001b[39m, \u001b[38;5;28mtuple\u001b[39m)):\n\u001b[32m    202\u001b[39m     chunks = \u001b[38;5;28mlist\u001b[39m(chunks)\n",
      "\u001b[36mFile \u001b[39m\u001b[32m/usr/lib/python3.12/json/encoder.py:258\u001b[39m, in \u001b[36mJSONEncoder.iterencode\u001b[39m\u001b[34m(self, o, _one_shot)\u001b[39m\n\u001b[32m    253\u001b[39m \u001b[38;5;28;01melse\u001b[39;00m:\n\u001b[32m    254\u001b[39m     _iterencode = _make_iterencode(\n\u001b[32m    255\u001b[39m         markers, \u001b[38;5;28mself\u001b[39m.default, _encoder, \u001b[38;5;28mself\u001b[39m.indent, floatstr,\n\u001b[32m    256\u001b[39m         \u001b[38;5;28mself\u001b[39m.key_separator, \u001b[38;5;28mself\u001b[39m.item_separator, \u001b[38;5;28mself\u001b[39m.sort_keys,\n\u001b[32m    257\u001b[39m         \u001b[38;5;28mself\u001b[39m.skipkeys, _one_shot)\n\u001b[32m--> \u001b[39m\u001b[32m258\u001b[39m \u001b[38;5;28;01mreturn\u001b[39;00m \u001b[43m_iterencode\u001b[49m\u001b[43m(\u001b[49m\u001b[43mo\u001b[49m\u001b[43m,\u001b[49m\u001b[43m \u001b[49m\u001b[32;43m0\u001b[39;49m\u001b[43m)\u001b[49m\n",
      "\u001b[36mFile \u001b[39m\u001b[32m~/Documents/python_workspace/myenv/share/jupyter/.venv/lib/python3.12/site-packages/_plotly_utils/utils.py:239\u001b[39m, in \u001b[36mPlotlyJSONEncoder.default\u001b[39m\u001b[34m(self, obj)\u001b[39m\n\u001b[32m    237\u001b[39m     \u001b[38;5;28;01mexcept\u001b[39;00m NotEncodable:\n\u001b[32m    238\u001b[39m         \u001b[38;5;28;01mpass\u001b[39;00m\n\u001b[32m--> \u001b[39m\u001b[32m239\u001b[39m \u001b[38;5;28;01mreturn\u001b[39;00m \u001b[43m_json\u001b[49m\u001b[43m.\u001b[49m\u001b[43mJSONEncoder\u001b[49m\u001b[43m.\u001b[49m\u001b[43mdefault\u001b[49m\u001b[43m(\u001b[49m\u001b[38;5;28;43mself\u001b[39;49m\u001b[43m,\u001b[49m\u001b[43m \u001b[49m\u001b[43mobj\u001b[49m\u001b[43m)\u001b[49m\n",
      "\u001b[36mFile \u001b[39m\u001b[32m/usr/lib/python3.12/json/encoder.py:180\u001b[39m, in \u001b[36mJSONEncoder.default\u001b[39m\u001b[34m(self, o)\u001b[39m\n\u001b[32m    161\u001b[39m \u001b[38;5;28;01mdef\u001b[39;00m\u001b[38;5;250m \u001b[39m\u001b[34mdefault\u001b[39m(\u001b[38;5;28mself\u001b[39m, o):\n\u001b[32m    162\u001b[39m \u001b[38;5;250m    \u001b[39m\u001b[33;03m\"\"\"Implement this method in a subclass such that it returns\u001b[39;00m\n\u001b[32m    163\u001b[39m \u001b[33;03m    a serializable object for ``o``, or calls the base implementation\u001b[39;00m\n\u001b[32m    164\u001b[39m \u001b[33;03m    (to raise a ``TypeError``).\u001b[39;00m\n\u001b[32m   (...)\u001b[39m\u001b[32m    178\u001b[39m \n\u001b[32m    179\u001b[39m \u001b[33;03m    \"\"\"\u001b[39;00m\n\u001b[32m--> \u001b[39m\u001b[32m180\u001b[39m     \u001b[38;5;28;01mraise\u001b[39;00m \u001b[38;5;167;01mTypeError\u001b[39;00m(\u001b[33mf\u001b[39m\u001b[33m'\u001b[39m\u001b[33mObject of type \u001b[39m\u001b[38;5;132;01m{\u001b[39;00mo.\u001b[34m__class__\u001b[39m.\u001b[34m__name__\u001b[39m\u001b[38;5;132;01m}\u001b[39;00m\u001b[33m \u001b[39m\u001b[33m'\u001b[39m\n\u001b[32m    181\u001b[39m                     \u001b[33mf\u001b[39m\u001b[33m'\u001b[39m\u001b[33mis not JSON serializable\u001b[39m\u001b[33m'\u001b[39m)\n",
      "\u001b[31mTypeError\u001b[39m: Object of type method is not JSON serializable"
     ]
    }
   ],
   "source": [
    "\n",
    "labels = {\n",
    "    'x': 'gestation',\n",
    "    'y' : 'age',\n",
    "    'z' : 'weight'\n",
    "}\n",
    "plot = px.scatter_3d(df, x= 'gestation', y = 'age', z = 'weight', labels= labels, height= 800, width= 1200)*\n",
    "plot.show()"
   ]
  },
  {
   "cell_type": "code",
   "execution_count": null,
   "id": "568decc5",
   "metadata": {},
   "outputs": [],
   "source": [
    "from sklearn.cluster import KMeans\n",
    "from sklearn.metrics import silhouette_score"
   ]
  },
  {
   "cell_type": "code",
   "execution_count": null,
   "id": "6e1d6451",
   "metadata": {},
   "outputs": [
    {
     "ename": "InvalidIndexError",
     "evalue": "(0       27.0\n1       33.0\n2       28.0\n3       36.0\n4       23.0\n        ... \n1231    27.0\n1232    24.0\n1233    30.0\n1234    21.0\n1235    38.0\nName: age, Length: 1236, dtype: object, 0                                                   284.0\n1                                                   282.0\n2                                                   279.0\n3       <bound method Series.mean of 0       284.0\\n1 ...\n4                                                   282.0\n                              ...                        \n1231                                                275.0\n1232                                                265.0\n1233                                                291.0\n1234                                                281.0\n1235                                                297.0\nName: gestation, Length: 1236, dtype: object, 0       100.0\n1       135.0\n2       115.0\n3       190.0\n4       125.0\n        ...  \n1231    100.0\n1232    120.0\n1233    150.0\n1234    110.0\n1235    129.0\nName: weight, Length: 1236, dtype: object)",
     "output_type": "error",
     "traceback": [
      "\u001b[31m---------------------------------------------------------------------------\u001b[39m",
      "\u001b[31mTypeError\u001b[39m                                 Traceback (most recent call last)",
      "\u001b[36mFile \u001b[39m\u001b[32m~/Documents/python_workspace/myenv/share/jupyter/.venv/lib/python3.12/site-packages/pandas/core/indexes/base.py:3805\u001b[39m, in \u001b[36mIndex.get_loc\u001b[39m\u001b[34m(self, key)\u001b[39m\n\u001b[32m   3804\u001b[39m \u001b[38;5;28;01mtry\u001b[39;00m:\n\u001b[32m-> \u001b[39m\u001b[32m3805\u001b[39m     \u001b[38;5;28;01mreturn\u001b[39;00m \u001b[38;5;28;43mself\u001b[39;49m\u001b[43m.\u001b[49m\u001b[43m_engine\u001b[49m\u001b[43m.\u001b[49m\u001b[43mget_loc\u001b[49m\u001b[43m(\u001b[49m\u001b[43mcasted_key\u001b[49m\u001b[43m)\u001b[49m\n\u001b[32m   3806\u001b[39m \u001b[38;5;28;01mexcept\u001b[39;00m \u001b[38;5;167;01mKeyError\u001b[39;00m \u001b[38;5;28;01mas\u001b[39;00m err:\n",
      "\u001b[36mFile \u001b[39m\u001b[32mindex.pyx:167\u001b[39m, in \u001b[36mpandas._libs.index.IndexEngine.get_loc\u001b[39m\u001b[34m()\u001b[39m\n",
      "\u001b[36mFile \u001b[39m\u001b[32mindex.pyx:173\u001b[39m, in \u001b[36mpandas._libs.index.IndexEngine.get_loc\u001b[39m\u001b[34m()\u001b[39m\n",
      "\u001b[31mTypeError\u001b[39m: '(0       27.0\n1       33.0\n2       28.0\n3       36.0\n4       23.0\n        ... \n1231    27.0\n1232    24.0\n1233    30.0\n1234    21.0\n1235    38.0\nName: age, Length: 1236, dtype: object, 0                                                   284.0\n1                                                   282.0\n2                                                   279.0\n3       <bound method Series.mean of 0       284.0\\n1 ...\n4                                                   282.0\n                              ...                        \n1231                                                275.0\n1232                                                265.0\n1233                                                291.0\n1234                                                281.0\n1235                                                297.0\nName: gestation, Length: 1236, dtype: object, 0       100.0\n1       135.0\n2       115.0\n3       190.0\n4       125.0\n        ...  \n1231    100.0\n1232    120.0\n1233    150.0\n1234    110.0\n1235    129.0\nName: weight, Length: 1236, dtype: object)' is an invalid key",
      "\nDuring handling of the above exception, another exception occurred:\n",
      "\u001b[31mInvalidIndexError\u001b[39m                         Traceback (most recent call last)",
      "\u001b[36mCell\u001b[39m\u001b[36m \u001b[39m\u001b[32mIn[31]\u001b[39m\u001b[32m, line 1\u001b[39m\n\u001b[32m----> \u001b[39m\u001b[32m1\u001b[39m val = \u001b[43mdf\u001b[49m\u001b[43m[\u001b[49m\u001b[43mdf\u001b[49m\u001b[43m[\u001b[49m\u001b[33;43m\"\u001b[39;49m\u001b[33;43mage\u001b[39;49m\u001b[33;43m\"\u001b[39;49m\u001b[43m]\u001b[49m\u001b[43m,\u001b[49m\u001b[43mdf\u001b[49m\u001b[43m[\u001b[49m\u001b[33;43m\"\u001b[39;49m\u001b[33;43mgestation\u001b[39;49m\u001b[33;43m\"\u001b[39;49m\u001b[43m]\u001b[49m\u001b[43m,\u001b[49m\u001b[43m \u001b[49m\u001b[43mdf\u001b[49m\u001b[43m[\u001b[49m\u001b[33;43m\"\u001b[39;49m\u001b[33;43mweight\u001b[39;49m\u001b[33;43m\"\u001b[39;49m\u001b[43m]\u001b[49m\u001b[43m]\u001b[49m\n",
      "\u001b[36mFile \u001b[39m\u001b[32m~/Documents/python_workspace/myenv/share/jupyter/.venv/lib/python3.12/site-packages/pandas/core/frame.py:4102\u001b[39m, in \u001b[36mDataFrame.__getitem__\u001b[39m\u001b[34m(self, key)\u001b[39m\n\u001b[32m   4100\u001b[39m \u001b[38;5;28;01mif\u001b[39;00m \u001b[38;5;28mself\u001b[39m.columns.nlevels > \u001b[32m1\u001b[39m:\n\u001b[32m   4101\u001b[39m     \u001b[38;5;28;01mreturn\u001b[39;00m \u001b[38;5;28mself\u001b[39m._getitem_multilevel(key)\n\u001b[32m-> \u001b[39m\u001b[32m4102\u001b[39m indexer = \u001b[38;5;28;43mself\u001b[39;49m\u001b[43m.\u001b[49m\u001b[43mcolumns\u001b[49m\u001b[43m.\u001b[49m\u001b[43mget_loc\u001b[49m\u001b[43m(\u001b[49m\u001b[43mkey\u001b[49m\u001b[43m)\u001b[49m\n\u001b[32m   4103\u001b[39m \u001b[38;5;28;01mif\u001b[39;00m is_integer(indexer):\n\u001b[32m   4104\u001b[39m     indexer = [indexer]\n",
      "\u001b[36mFile \u001b[39m\u001b[32m~/Documents/python_workspace/myenv/share/jupyter/.venv/lib/python3.12/site-packages/pandas/core/indexes/base.py:3817\u001b[39m, in \u001b[36mIndex.get_loc\u001b[39m\u001b[34m(self, key)\u001b[39m\n\u001b[32m   3812\u001b[39m     \u001b[38;5;28;01mraise\u001b[39;00m \u001b[38;5;167;01mKeyError\u001b[39;00m(key) \u001b[38;5;28;01mfrom\u001b[39;00m\u001b[38;5;250m \u001b[39m\u001b[34;01merr\u001b[39;00m\n\u001b[32m   3813\u001b[39m \u001b[38;5;28;01mexcept\u001b[39;00m \u001b[38;5;167;01mTypeError\u001b[39;00m:\n\u001b[32m   3814\u001b[39m     \u001b[38;5;66;03m# If we have a listlike key, _check_indexing_error will raise\u001b[39;00m\n\u001b[32m   3815\u001b[39m     \u001b[38;5;66;03m#  InvalidIndexError. Otherwise we fall through and re-raise\u001b[39;00m\n\u001b[32m   3816\u001b[39m     \u001b[38;5;66;03m#  the TypeError.\u001b[39;00m\n\u001b[32m-> \u001b[39m\u001b[32m3817\u001b[39m     \u001b[38;5;28;43mself\u001b[39;49m\u001b[43m.\u001b[49m\u001b[43m_check_indexing_error\u001b[49m\u001b[43m(\u001b[49m\u001b[43mkey\u001b[49m\u001b[43m)\u001b[49m\n\u001b[32m   3818\u001b[39m     \u001b[38;5;28;01mraise\u001b[39;00m\n",
      "\u001b[36mFile \u001b[39m\u001b[32m~/Documents/python_workspace/myenv/share/jupyter/.venv/lib/python3.12/site-packages/pandas/core/indexes/base.py:6059\u001b[39m, in \u001b[36mIndex._check_indexing_error\u001b[39m\u001b[34m(self, key)\u001b[39m\n\u001b[32m   6055\u001b[39m \u001b[38;5;28;01mdef\u001b[39;00m\u001b[38;5;250m \u001b[39m\u001b[34m_check_indexing_error\u001b[39m(\u001b[38;5;28mself\u001b[39m, key):\n\u001b[32m   6056\u001b[39m     \u001b[38;5;28;01mif\u001b[39;00m \u001b[38;5;129;01mnot\u001b[39;00m is_scalar(key):\n\u001b[32m   6057\u001b[39m         \u001b[38;5;66;03m# if key is not a scalar, directly raise an error (the code below\u001b[39;00m\n\u001b[32m   6058\u001b[39m         \u001b[38;5;66;03m# would convert to numpy arrays and raise later any way) - GH29926\u001b[39;00m\n\u001b[32m-> \u001b[39m\u001b[32m6059\u001b[39m         \u001b[38;5;28;01mraise\u001b[39;00m InvalidIndexError(key)\n",
      "\u001b[31mInvalidIndexError\u001b[39m: (0       27.0\n1       33.0\n2       28.0\n3       36.0\n4       23.0\n        ... \n1231    27.0\n1232    24.0\n1233    30.0\n1234    21.0\n1235    38.0\nName: age, Length: 1236, dtype: object, 0                                                   284.0\n1                                                   282.0\n2                                                   279.0\n3       <bound method Series.mean of 0       284.0\\n1 ...\n4                                                   282.0\n                              ...                        \n1231                                                275.0\n1232                                                265.0\n1233                                                291.0\n1234                                                281.0\n1235                                                297.0\nName: gestation, Length: 1236, dtype: object, 0       100.0\n1       135.0\n2       115.0\n3       190.0\n4       125.0\n        ...  \n1231    100.0\n1232    120.0\n1233    150.0\n1234    110.0\n1235    129.0\nName: weight, Length: 1236, dtype: object)"
     ]
    }
   ],
   "source": [
    "val = df[df[\"age\"],df[\"gestation\"], df[\"weight\"]]"
   ]
  },
  {
   "cell_type": "code",
   "execution_count": null,
   "id": "2bfcf9f8",
   "metadata": {},
   "outputs": [
    {
     "name": "stdout",
     "output_type": "stream",
     "text": [
      "<class 'pandas.core.frame.DataFrame'>\n",
      "RangeIndex: 1236 entries, 0 to 1235\n",
      "Data columns (total 3 columns):\n",
      " #   Column     Non-Null Count  Dtype \n",
      "---  ------     --------------  ----- \n",
      " 0   age        1236 non-null   object\n",
      " 1   gestation  1236 non-null   object\n",
      " 2   weight     1236 non-null   object\n",
      "dtypes: object(3)\n",
      "memory usage: 29.1+ KB\n"
     ]
    }
   ],
   "source": [
    "val.info()"
   ]
  },
  {
   "cell_type": "code",
   "execution_count": null,
   "id": "fb7c135b",
   "metadata": {},
   "outputs": [
    {
     "ename": "TypeError",
     "evalue": "float() argument must be a string or a real number, not 'method'",
     "output_type": "error",
     "traceback": [
      "\u001b[31m---------------------------------------------------------------------------\u001b[39m",
      "\u001b[31mTypeError\u001b[39m                                 Traceback (most recent call last)",
      "\u001b[32m/tmp/ipykernel_8404/4122416520.py\u001b[39m in \u001b[36m?\u001b[39m\u001b[34m()\u001b[39m\n\u001b[32m      3\u001b[39m sil_score = []\n\u001b[32m      4\u001b[39m \n\u001b[32m      5\u001b[39m \u001b[38;5;28;01mfor\u001b[39;00m i \u001b[38;5;28;01min\u001b[39;00m num_cluster:\n\u001b[32m      6\u001b[39m     km = KMeans(n_clusters= i, random_state= \u001b[32m42\u001b[39m)\n\u001b[32m----> \u001b[39m\u001b[32m7\u001b[39m     km.fit(val)\n\u001b[32m      8\u001b[39m     inertia.append(km.inertia_)\n\u001b[32m      9\u001b[39m     sil_score.append(silhouette_score(val,km.labels_))\n",
      "\u001b[32m~/Documents/python_workspace/myenv/share/jupyter/.venv/lib/python3.12/site-packages/sklearn/base.py\u001b[39m in \u001b[36m?\u001b[39m\u001b[34m(estimator, *args, **kwargs)\u001b[39m\n\u001b[32m   1385\u001b[39m                 skip_parameter_validation=(\n\u001b[32m   1386\u001b[39m                     prefer_skip_nested_validation \u001b[38;5;28;01mor\u001b[39;00m global_skip_validation\n\u001b[32m   1387\u001b[39m                 )\n\u001b[32m   1388\u001b[39m             ):\n\u001b[32m-> \u001b[39m\u001b[32m1389\u001b[39m                 \u001b[38;5;28;01mreturn\u001b[39;00m fit_method(estimator, *args, **kwargs)\n",
      "\u001b[32m~/Documents/python_workspace/myenv/share/jupyter/.venv/lib/python3.12/site-packages/sklearn/cluster/_kmeans.py\u001b[39m in \u001b[36m?\u001b[39m\u001b[34m(self, X, y, sample_weight)\u001b[39m\n\u001b[32m   1450\u001b[39m         -------\n\u001b[32m   1451\u001b[39m         self : object\n\u001b[32m   1452\u001b[39m             Fitted estimator.\n\u001b[32m   1453\u001b[39m         \"\"\"\n\u001b[32m-> \u001b[39m\u001b[32m1454\u001b[39m         X = validate_data(\n\u001b[32m   1455\u001b[39m             self,\n\u001b[32m   1456\u001b[39m             X,\n\u001b[32m   1457\u001b[39m             accept_sparse=\u001b[33m\"csr\"\u001b[39m,\n",
      "\u001b[32m~/Documents/python_workspace/myenv/share/jupyter/.venv/lib/python3.12/site-packages/sklearn/utils/validation.py\u001b[39m in \u001b[36m?\u001b[39m\u001b[34m(_estimator, X, y, reset, validate_separately, skip_check_array, **check_params)\u001b[39m\n\u001b[32m   2940\u001b[39m             out = y\n\u001b[32m   2941\u001b[39m         \u001b[38;5;28;01melse\u001b[39;00m:\n\u001b[32m   2942\u001b[39m             out = X, y\n\u001b[32m   2943\u001b[39m     \u001b[38;5;28;01melif\u001b[39;00m \u001b[38;5;28;01mnot\u001b[39;00m no_val_X \u001b[38;5;28;01mand\u001b[39;00m no_val_y:\n\u001b[32m-> \u001b[39m\u001b[32m2944\u001b[39m         out = check_array(X, input_name=\u001b[33m\"X\"\u001b[39m, **check_params)\n\u001b[32m   2945\u001b[39m     \u001b[38;5;28;01melif\u001b[39;00m no_val_X \u001b[38;5;28;01mand\u001b[39;00m \u001b[38;5;28;01mnot\u001b[39;00m no_val_y:\n\u001b[32m   2946\u001b[39m         out = _check_y(y, **check_params)\n\u001b[32m   2947\u001b[39m     \u001b[38;5;28;01melse\u001b[39;00m:\n",
      "\u001b[32m~/Documents/python_workspace/myenv/share/jupyter/.venv/lib/python3.12/site-packages/sklearn/utils/validation.py\u001b[39m in \u001b[36m?\u001b[39m\u001b[34m(array, accept_sparse, accept_large_sparse, dtype, order, copy, force_writeable, force_all_finite, ensure_all_finite, ensure_non_negative, ensure_2d, allow_nd, ensure_min_samples, ensure_min_features, estimator, input_name)\u001b[39m\n\u001b[32m   1052\u001b[39m                         )\n\u001b[32m   1053\u001b[39m                     array = xp.astype(array, dtype, copy=\u001b[38;5;28;01mFalse\u001b[39;00m)\n\u001b[32m   1054\u001b[39m                 \u001b[38;5;28;01melse\u001b[39;00m:\n\u001b[32m   1055\u001b[39m                     array = _asarray_with_order(array, order=order, dtype=dtype, xp=xp)\n\u001b[32m-> \u001b[39m\u001b[32m1056\u001b[39m             \u001b[38;5;28;01mexcept\u001b[39;00m ComplexWarning \u001b[38;5;28;01mas\u001b[39;00m complex_warning:\n\u001b[32m   1057\u001b[39m                 raise ValueError(\n\u001b[32m   1058\u001b[39m                     \u001b[33m\"Complex data not supported\\n{}\\n\"\u001b[39m.format(array)\n\u001b[32m   1059\u001b[39m                 ) \u001b[38;5;28;01mfrom\u001b[39;00m complex_warning\n",
      "\u001b[32m~/Documents/python_workspace/myenv/share/jupyter/.venv/lib/python3.12/site-packages/sklearn/utils/_array_api.py\u001b[39m in \u001b[36m?\u001b[39m\u001b[34m(array, dtype, order, copy, xp, device)\u001b[39m\n\u001b[32m    835\u001b[39m         \u001b[38;5;66;03m# Use NumPy API to support order\u001b[39;00m\n\u001b[32m    836\u001b[39m         \u001b[38;5;28;01mif\u001b[39;00m copy \u001b[38;5;28;01mis\u001b[39;00m \u001b[38;5;28;01mTrue\u001b[39;00m:\n\u001b[32m    837\u001b[39m             array = numpy.array(array, order=order, dtype=dtype)\n\u001b[32m    838\u001b[39m         \u001b[38;5;28;01melse\u001b[39;00m:\n\u001b[32m--> \u001b[39m\u001b[32m839\u001b[39m             array = numpy.asarray(array, order=order, dtype=dtype)\n\u001b[32m    840\u001b[39m \n\u001b[32m    841\u001b[39m         \u001b[38;5;66;03m# At this point array is a NumPy ndarray. We convert it to an array\u001b[39;00m\n\u001b[32m    842\u001b[39m         \u001b[38;5;66;03m# container that is consistent with the input's namespace.\u001b[39;00m\n",
      "\u001b[32m~/Documents/python_workspace/myenv/share/jupyter/.venv/lib/python3.12/site-packages/pandas/core/generic.py\u001b[39m in \u001b[36m?\u001b[39m\u001b[34m(self, dtype, copy)\u001b[39m\n\u001b[32m   2149\u001b[39m     def __array__(\n\u001b[32m   2150\u001b[39m         self, dtype: npt.DTypeLike | \u001b[38;5;28;01mNone\u001b[39;00m = \u001b[38;5;28;01mNone\u001b[39;00m, copy: bool_t | \u001b[38;5;28;01mNone\u001b[39;00m = \u001b[38;5;28;01mNone\u001b[39;00m\n\u001b[32m   2151\u001b[39m     ) -> np.ndarray:\n\u001b[32m   2152\u001b[39m         values = self._values\n\u001b[32m-> \u001b[39m\u001b[32m2153\u001b[39m         arr = np.asarray(values, dtype=dtype)\n\u001b[32m   2154\u001b[39m         if (\n\u001b[32m   2155\u001b[39m             astype_is_view(values.dtype, arr.dtype)\n\u001b[32m   2156\u001b[39m             \u001b[38;5;28;01mand\u001b[39;00m using_copy_on_write()\n",
      "\u001b[31mTypeError\u001b[39m: float() argument must be a string or a real number, not 'method'"
     ]
    }
   ],
   "source": [
    "inertia = []\n",
    "num_cluster = [i for i in range(2,11)]\n",
    "sil_score = []\n",
    "\n",
    "for i in num_cluster:\n",
    "    km = KMeans(n_clusters= i, random_state= 42)\n",
    "    km.fit(val)\n",
    "    inertia.append(km.inertia_)\n",
    "    sil_score.append(silhouette_score(val,km.labels_))"
   ]
  },
  {
   "cell_type": "code",
   "execution_count": null,
   "id": "a3162ceb",
   "metadata": {},
   "outputs": [],
   "source": []
  }
 ],
 "metadata": {
  "kernelspec": {
   "display_name": ".venv",
   "language": "python",
   "name": "python3"
  },
  "language_info": {
   "codemirror_mode": {
    "name": "ipython",
    "version": 3
   },
   "file_extension": ".py",
   "mimetype": "text/x-python",
   "name": "python",
   "nbconvert_exporter": "python",
   "pygments_lexer": "ipython3",
   "version": "3.12.3"
  }
 },
 "nbformat": 4,
 "nbformat_minor": 5
}
